{
 "cells": [
  {
   "cell_type": "code",
   "execution_count": 1,
   "id": "dbcc43e4",
   "metadata": {},
   "outputs": [],
   "source": [
    "# importer les packages necessaires\n",
    "import numpy as np # algebre lineaire\n",
    "import matplotlib.pyplot as plt\n",
    "from sklearn import metrics\n",
    "from sklearn.metrics import confusion_matrix\n",
    "import matplotlib.pyplot as plt\n",
    "import seaborn as sns"
   ]
  },
  {
   "cell_type": "code",
   "execution_count": 2,
   "id": "5e3ac64f",
   "metadata": {},
   "outputs": [],
   "source": [
    "import pandas as pd # data processing, \n",
    "ran=pd.read_csv(\"C:/Users/PC/Downloads/ransomware/ran/data_file.csv\", on_bad_lines=\"skip\")"
   ]
  },
  {
   "cell_type": "code",
   "execution_count": 3,
   "id": "278de0cd",
   "metadata": {},
   "outputs": [
    {
     "data": {
      "text/html": [
       "<div>\n",
       "<style scoped>\n",
       "    .dataframe tbody tr th:only-of-type {\n",
       "        vertical-align: middle;\n",
       "    }\n",
       "\n",
       "    .dataframe tbody tr th {\n",
       "        vertical-align: top;\n",
       "    }\n",
       "\n",
       "    .dataframe thead th {\n",
       "        text-align: right;\n",
       "    }\n",
       "</style>\n",
       "<table border=\"1\" class=\"dataframe\">\n",
       "  <thead>\n",
       "    <tr style=\"text-align: right;\">\n",
       "      <th></th>\n",
       "      <th>FileName</th>\n",
       "      <th>md5Hash</th>\n",
       "      <th>Machine</th>\n",
       "      <th>DebugSize</th>\n",
       "      <th>DebugRVA</th>\n",
       "      <th>MajorImageVersion</th>\n",
       "      <th>MajorOSVersion</th>\n",
       "      <th>ExportRVA</th>\n",
       "      <th>ExportSize</th>\n",
       "      <th>IatVRA</th>\n",
       "      <th>MajorLinkerVersion</th>\n",
       "      <th>MinorLinkerVersion</th>\n",
       "      <th>NumberOfSections</th>\n",
       "      <th>SizeOfStackReserve</th>\n",
       "      <th>DllCharacteristics</th>\n",
       "      <th>ResourceSize</th>\n",
       "      <th>BitcoinAddresses</th>\n",
       "      <th>Benign</th>\n",
       "    </tr>\n",
       "  </thead>\n",
       "  <tbody>\n",
       "    <tr>\n",
       "      <th>0</th>\n",
       "      <td>0124e21d-018c-4ce0-92a3-b9e205a76bc0.dll</td>\n",
       "      <td>79755c51e413ed3c6be4635fd729a6e1</td>\n",
       "      <td>332</td>\n",
       "      <td>0</td>\n",
       "      <td>0</td>\n",
       "      <td>0</td>\n",
       "      <td>4</td>\n",
       "      <td>0</td>\n",
       "      <td>0</td>\n",
       "      <td>8192</td>\n",
       "      <td>8</td>\n",
       "      <td>0</td>\n",
       "      <td>3</td>\n",
       "      <td>1048576</td>\n",
       "      <td>34112</td>\n",
       "      <td>672</td>\n",
       "      <td>0</td>\n",
       "      <td>1</td>\n",
       "    </tr>\n",
       "    <tr>\n",
       "      <th>1</th>\n",
       "      <td>05c8318f98a5d301d80000009c316005.vertdll.dll</td>\n",
       "      <td>95e19f3657d34a432eada93221b0ea16</td>\n",
       "      <td>34404</td>\n",
       "      <td>84</td>\n",
       "      <td>121728</td>\n",
       "      <td>10</td>\n",
       "      <td>10</td>\n",
       "      <td>126576</td>\n",
       "      <td>4930</td>\n",
       "      <td>0</td>\n",
       "      <td>14</td>\n",
       "      <td>10</td>\n",
       "      <td>8</td>\n",
       "      <td>262144</td>\n",
       "      <td>16864</td>\n",
       "      <td>1024</td>\n",
       "      <td>0</td>\n",
       "      <td>1</td>\n",
       "    </tr>\n",
       "    <tr>\n",
       "      <th>2</th>\n",
       "      <td>06054fba-5619-4a86-a861-ffb0464bef5d.dll</td>\n",
       "      <td>85c32641d77a54e19ba8ea4ab305c791</td>\n",
       "      <td>332</td>\n",
       "      <td>0</td>\n",
       "      <td>0</td>\n",
       "      <td>0</td>\n",
       "      <td>4</td>\n",
       "      <td>0</td>\n",
       "      <td>0</td>\n",
       "      <td>8192</td>\n",
       "      <td>8</td>\n",
       "      <td>0</td>\n",
       "      <td>3</td>\n",
       "      <td>1048576</td>\n",
       "      <td>34112</td>\n",
       "      <td>672</td>\n",
       "      <td>0</td>\n",
       "      <td>1</td>\n",
       "    </tr>\n",
       "    <tr>\n",
       "      <th>3</th>\n",
       "      <td>075822ac99a5d301660400009c316005.adhapi.dll</td>\n",
       "      <td>62e3b959d982ef534b66f819fe15f085</td>\n",
       "      <td>34404</td>\n",
       "      <td>84</td>\n",
       "      <td>19904</td>\n",
       "      <td>10</td>\n",
       "      <td>10</td>\n",
       "      <td>21312</td>\n",
       "      <td>252</td>\n",
       "      <td>18160</td>\n",
       "      <td>14</td>\n",
       "      <td>10</td>\n",
       "      <td>6</td>\n",
       "      <td>262144</td>\n",
       "      <td>16736</td>\n",
       "      <td>1040</td>\n",
       "      <td>0</td>\n",
       "      <td>1</td>\n",
       "    </tr>\n",
       "    <tr>\n",
       "      <th>4</th>\n",
       "      <td>090607dd9ba5d301ca0900009c316005.SensorsNative...</td>\n",
       "      <td>ae38c5f7d313ad0ff3bfb8826476767f</td>\n",
       "      <td>34404</td>\n",
       "      <td>84</td>\n",
       "      <td>97728</td>\n",
       "      <td>10</td>\n",
       "      <td>10</td>\n",
       "      <td>105792</td>\n",
       "      <td>1852</td>\n",
       "      <td>70592</td>\n",
       "      <td>14</td>\n",
       "      <td>10</td>\n",
       "      <td>7</td>\n",
       "      <td>262144</td>\n",
       "      <td>16736</td>\n",
       "      <td>1096</td>\n",
       "      <td>0</td>\n",
       "      <td>1</td>\n",
       "    </tr>\n",
       "    <tr>\n",
       "      <th>...</th>\n",
       "      <td>...</td>\n",
       "      <td>...</td>\n",
       "      <td>...</td>\n",
       "      <td>...</td>\n",
       "      <td>...</td>\n",
       "      <td>...</td>\n",
       "      <td>...</td>\n",
       "      <td>...</td>\n",
       "      <td>...</td>\n",
       "      <td>...</td>\n",
       "      <td>...</td>\n",
       "      <td>...</td>\n",
       "      <td>...</td>\n",
       "      <td>...</td>\n",
       "      <td>...</td>\n",
       "      <td>...</td>\n",
       "      <td>...</td>\n",
       "      <td>...</td>\n",
       "    </tr>\n",
       "    <tr>\n",
       "      <th>62480</th>\n",
       "      <td>VirusShare_a43ceb5e5fffc793e0205d15a0606cb0</td>\n",
       "      <td>a43ceb5e5fffc793e0205d15a0606cb0</td>\n",
       "      <td>332</td>\n",
       "      <td>0</td>\n",
       "      <td>0</td>\n",
       "      <td>1</td>\n",
       "      <td>4</td>\n",
       "      <td>0</td>\n",
       "      <td>0</td>\n",
       "      <td>4096</td>\n",
       "      <td>6</td>\n",
       "      <td>0</td>\n",
       "      <td>3</td>\n",
       "      <td>1048576</td>\n",
       "      <td>0</td>\n",
       "      <td>23504</td>\n",
       "      <td>0</td>\n",
       "      <td>0</td>\n",
       "    </tr>\n",
       "    <tr>\n",
       "      <th>62481</th>\n",
       "      <td>VirusShare_0190dafc8304111a00fccf57340ea6a4</td>\n",
       "      <td>0190dafc8304111a00fccf57340ea6a4</td>\n",
       "      <td>332</td>\n",
       "      <td>0</td>\n",
       "      <td>0</td>\n",
       "      <td>7</td>\n",
       "      <td>10</td>\n",
       "      <td>0</td>\n",
       "      <td>0</td>\n",
       "      <td>0</td>\n",
       "      <td>7</td>\n",
       "      <td>0</td>\n",
       "      <td>7</td>\n",
       "      <td>1048576</td>\n",
       "      <td>0</td>\n",
       "      <td>15704</td>\n",
       "      <td>0</td>\n",
       "      <td>0</td>\n",
       "    </tr>\n",
       "    <tr>\n",
       "      <th>62482</th>\n",
       "      <td>VirusShare_0f3ca55979aaf59158d6b01140696e44</td>\n",
       "      <td>0f3ca55979aaf59158d6b01140696e44</td>\n",
       "      <td>332</td>\n",
       "      <td>0</td>\n",
       "      <td>0</td>\n",
       "      <td>0</td>\n",
       "      <td>4</td>\n",
       "      <td>0</td>\n",
       "      <td>0</td>\n",
       "      <td>404908</td>\n",
       "      <td>2</td>\n",
       "      <td>50</td>\n",
       "      <td>11</td>\n",
       "      <td>1048576</td>\n",
       "      <td>0</td>\n",
       "      <td>2364</td>\n",
       "      <td>0</td>\n",
       "      <td>0</td>\n",
       "    </tr>\n",
       "    <tr>\n",
       "      <th>62483</th>\n",
       "      <td>VirusShare_fca5ce35f1690db6babca5aa5d559535</td>\n",
       "      <td>fca5ce35f1690db6babca5aa5d559535</td>\n",
       "      <td>332</td>\n",
       "      <td>0</td>\n",
       "      <td>0</td>\n",
       "      <td>0</td>\n",
       "      <td>4</td>\n",
       "      <td>14448</td>\n",
       "      <td>70</td>\n",
       "      <td>4096</td>\n",
       "      <td>8</td>\n",
       "      <td>0</td>\n",
       "      <td>4</td>\n",
       "      <td>1048576</td>\n",
       "      <td>0</td>\n",
       "      <td>130296</td>\n",
       "      <td>0</td>\n",
       "      <td>0</td>\n",
       "    </tr>\n",
       "    <tr>\n",
       "      <th>62484</th>\n",
       "      <td>VirusShare_d7955a7e6d1e16800feafd4204cbac2b</td>\n",
       "      <td>d7955a7e6d1e16800feafd4204cbac2b</td>\n",
       "      <td>332</td>\n",
       "      <td>0</td>\n",
       "      <td>0</td>\n",
       "      <td>0</td>\n",
       "      <td>5</td>\n",
       "      <td>0</td>\n",
       "      <td>0</td>\n",
       "      <td>4096</td>\n",
       "      <td>9</td>\n",
       "      <td>0</td>\n",
       "      <td>6</td>\n",
       "      <td>1048576</td>\n",
       "      <td>0</td>\n",
       "      <td>6912</td>\n",
       "      <td>0</td>\n",
       "      <td>0</td>\n",
       "    </tr>\n",
       "  </tbody>\n",
       "</table>\n",
       "<p>62485 rows × 18 columns</p>\n",
       "</div>"
      ],
      "text/plain": [
       "                                                FileName  \\\n",
       "0               0124e21d-018c-4ce0-92a3-b9e205a76bc0.dll   \n",
       "1           05c8318f98a5d301d80000009c316005.vertdll.dll   \n",
       "2               06054fba-5619-4a86-a861-ffb0464bef5d.dll   \n",
       "3            075822ac99a5d301660400009c316005.adhapi.dll   \n",
       "4      090607dd9ba5d301ca0900009c316005.SensorsNative...   \n",
       "...                                                  ...   \n",
       "62480        VirusShare_a43ceb5e5fffc793e0205d15a0606cb0   \n",
       "62481        VirusShare_0190dafc8304111a00fccf57340ea6a4   \n",
       "62482        VirusShare_0f3ca55979aaf59158d6b01140696e44   \n",
       "62483        VirusShare_fca5ce35f1690db6babca5aa5d559535   \n",
       "62484        VirusShare_d7955a7e6d1e16800feafd4204cbac2b   \n",
       "\n",
       "                                md5Hash  Machine  DebugSize  DebugRVA  \\\n",
       "0      79755c51e413ed3c6be4635fd729a6e1      332          0         0   \n",
       "1      95e19f3657d34a432eada93221b0ea16    34404         84    121728   \n",
       "2      85c32641d77a54e19ba8ea4ab305c791      332          0         0   \n",
       "3      62e3b959d982ef534b66f819fe15f085    34404         84     19904   \n",
       "4      ae38c5f7d313ad0ff3bfb8826476767f    34404         84     97728   \n",
       "...                                 ...      ...        ...       ...   \n",
       "62480  a43ceb5e5fffc793e0205d15a0606cb0      332          0         0   \n",
       "62481  0190dafc8304111a00fccf57340ea6a4      332          0         0   \n",
       "62482  0f3ca55979aaf59158d6b01140696e44      332          0         0   \n",
       "62483  fca5ce35f1690db6babca5aa5d559535      332          0         0   \n",
       "62484  d7955a7e6d1e16800feafd4204cbac2b      332          0         0   \n",
       "\n",
       "       MajorImageVersion  MajorOSVersion  ExportRVA  ExportSize  IatVRA  \\\n",
       "0                      0               4          0           0    8192   \n",
       "1                     10              10     126576        4930       0   \n",
       "2                      0               4          0           0    8192   \n",
       "3                     10              10      21312         252   18160   \n",
       "4                     10              10     105792        1852   70592   \n",
       "...                  ...             ...        ...         ...     ...   \n",
       "62480                  1               4          0           0    4096   \n",
       "62481                  7              10          0           0       0   \n",
       "62482                  0               4          0           0  404908   \n",
       "62483                  0               4      14448          70    4096   \n",
       "62484                  0               5          0           0    4096   \n",
       "\n",
       "       MajorLinkerVersion  MinorLinkerVersion  NumberOfSections  \\\n",
       "0                       8                   0                 3   \n",
       "1                      14                  10                 8   \n",
       "2                       8                   0                 3   \n",
       "3                      14                  10                 6   \n",
       "4                      14                  10                 7   \n",
       "...                   ...                 ...               ...   \n",
       "62480                   6                   0                 3   \n",
       "62481                   7                   0                 7   \n",
       "62482                   2                  50                11   \n",
       "62483                   8                   0                 4   \n",
       "62484                   9                   0                 6   \n",
       "\n",
       "       SizeOfStackReserve  DllCharacteristics  ResourceSize  BitcoinAddresses  \\\n",
       "0                 1048576               34112           672                 0   \n",
       "1                  262144               16864          1024                 0   \n",
       "2                 1048576               34112           672                 0   \n",
       "3                  262144               16736          1040                 0   \n",
       "4                  262144               16736          1096                 0   \n",
       "...                   ...                 ...           ...               ...   \n",
       "62480             1048576                   0         23504                 0   \n",
       "62481             1048576                   0         15704                 0   \n",
       "62482             1048576                   0          2364                 0   \n",
       "62483             1048576                   0        130296                 0   \n",
       "62484             1048576                   0          6912                 0   \n",
       "\n",
       "       Benign  \n",
       "0           1  \n",
       "1           1  \n",
       "2           1  \n",
       "3           1  \n",
       "4           1  \n",
       "...       ...  \n",
       "62480       0  \n",
       "62481       0  \n",
       "62482       0  \n",
       "62483       0  \n",
       "62484       0  \n",
       "\n",
       "[62485 rows x 18 columns]"
      ]
     },
     "execution_count": 3,
     "metadata": {},
     "output_type": "execute_result"
    }
   ],
   "source": [
    "ran"
   ]
  },
  {
   "cell_type": "code",
   "execution_count": 4,
   "id": "81d660b1",
   "metadata": {},
   "outputs": [
    {
     "name": "stdout",
     "output_type": "stream",
     "text": [
      "<class 'pandas.core.frame.DataFrame'>\n",
      "RangeIndex: 62485 entries, 0 to 62484\n",
      "Data columns (total 18 columns):\n",
      " #   Column              Non-Null Count  Dtype \n",
      "---  ------              --------------  ----- \n",
      " 0   FileName            62485 non-null  object\n",
      " 1   md5Hash             62485 non-null  object\n",
      " 2   Machine             62485 non-null  int64 \n",
      " 3   DebugSize           62485 non-null  int64 \n",
      " 4   DebugRVA            62485 non-null  int64 \n",
      " 5   MajorImageVersion   62485 non-null  int64 \n",
      " 6   MajorOSVersion      62485 non-null  int64 \n",
      " 7   ExportRVA           62485 non-null  int64 \n",
      " 8   ExportSize          62485 non-null  int64 \n",
      " 9   IatVRA              62485 non-null  int64 \n",
      " 10  MajorLinkerVersion  62485 non-null  int64 \n",
      " 11  MinorLinkerVersion  62485 non-null  int64 \n",
      " 12  NumberOfSections    62485 non-null  int64 \n",
      " 13  SizeOfStackReserve  62485 non-null  int64 \n",
      " 14  DllCharacteristics  62485 non-null  int64 \n",
      " 15  ResourceSize        62485 non-null  int64 \n",
      " 16  BitcoinAddresses    62485 non-null  int64 \n",
      " 17  Benign              62485 non-null  int64 \n",
      "dtypes: int64(16), object(2)\n",
      "memory usage: 8.6+ MB\n"
     ]
    }
   ],
   "source": [
    "#se debarrasser des caractéristiques qui sont toutes à 0\n",
    "ran_new = ran.loc[:, (ran != 0).any(axis=0)]\n",
    "ran_new.info()"
   ]
  },
  {
   "cell_type": "code",
   "execution_count": 5,
   "id": "f02aea3e",
   "metadata": {},
   "outputs": [],
   "source": [
    "#sélectionne jusqu'à l'avant-dernière colonne du cadre de données\n",
    "x = ran_new.iloc[:, :-1].values\n",
    "#vecteur ligne des valeurs de la dernière colonne,\n",
    "y = ran_new.iloc[:,-1].values"
   ]
  },
  {
   "cell_type": "code",
   "execution_count": 6,
   "id": "3c5a9fec",
   "metadata": {},
   "outputs": [
    {
     "name": "stdout",
     "output_type": "stream",
     "text": [
      "Forme des caractéristiques d entrée: (62485, 17)\n",
      "Forme des caractéristiques de sortie: (62485,)\n"
     ]
    }
   ],
   "source": [
    "# Vérification de la forme des caractéristiques d'entrée et de sortie\n",
    "print('Forme des caractéristiques d entrée:', x.shape)\n",
    "print('Forme des caractéristiques de sortie:', y.shape)"
   ]
  },
  {
   "cell_type": "code",
   "execution_count": 7,
   "id": "d20754be",
   "metadata": {},
   "outputs": [
    {
     "name": "stdout",
     "output_type": "stream",
     "text": [
      "Forme des données d entrée pour l entrainement: (56236, 17)\n",
      "Forme des données de sortie de l apprentissage: (56236,)\n",
      "Forme des données d'entrée du test: (6249, 17)\n",
      "Forme des données de sortie du test: (6249,)\n"
     ]
    }
   ],
   "source": [
    "from sklearn.model_selection import train_test_split\n",
    "x_train, x_test, y_train, y_test = train_test_split(x, y, test_size=0.1, random_state=0)\n",
    "\n",
    "#Vérification de la forme des ensembles de formation et de test\n",
    "print('Forme des données d entrée pour l entrainement:', x_train.shape)\n",
    "print('Forme des données de sortie de l apprentissage:', y_train.shape)\n",
    "print('Forme des données d\\'entrée du test:', x_test.shape)\n",
    "print('Forme des données de sortie du test:', y_test.shape)"
   ]
  },
  {
   "cell_type": "code",
   "execution_count": 8,
   "id": "340d504b",
   "metadata": {},
   "outputs": [
    {
     "data": {
      "text/html": [
       "<div>\n",
       "<style scoped>\n",
       "    .dataframe tbody tr th:only-of-type {\n",
       "        vertical-align: middle;\n",
       "    }\n",
       "\n",
       "    .dataframe tbody tr th {\n",
       "        vertical-align: top;\n",
       "    }\n",
       "\n",
       "    .dataframe thead th {\n",
       "        text-align: right;\n",
       "    }\n",
       "</style>\n",
       "<table border=\"1\" class=\"dataframe\">\n",
       "  <thead>\n",
       "    <tr style=\"text-align: right;\">\n",
       "      <th></th>\n",
       "      <th>Machine</th>\n",
       "      <th>DebugSize</th>\n",
       "      <th>DebugRVA</th>\n",
       "      <th>MajorImageVersion</th>\n",
       "      <th>MajorOSVersion</th>\n",
       "      <th>ExportRVA</th>\n",
       "      <th>ExportSize</th>\n",
       "      <th>IatVRA</th>\n",
       "      <th>MajorLinkerVersion</th>\n",
       "      <th>MinorLinkerVersion</th>\n",
       "      <th>NumberOfSections</th>\n",
       "      <th>SizeOfStackReserve</th>\n",
       "      <th>DllCharacteristics</th>\n",
       "      <th>ResourceSize</th>\n",
       "      <th>BitcoinAddresses</th>\n",
       "    </tr>\n",
       "  </thead>\n",
       "  <tbody>\n",
       "    <tr>\n",
       "      <th>0</th>\n",
       "      <td>332</td>\n",
       "      <td>0</td>\n",
       "      <td>0</td>\n",
       "      <td>0</td>\n",
       "      <td>4</td>\n",
       "      <td>0</td>\n",
       "      <td>0</td>\n",
       "      <td>8192</td>\n",
       "      <td>8</td>\n",
       "      <td>0</td>\n",
       "      <td>3</td>\n",
       "      <td>1048576</td>\n",
       "      <td>34112</td>\n",
       "      <td>672</td>\n",
       "      <td>0</td>\n",
       "    </tr>\n",
       "    <tr>\n",
       "      <th>1</th>\n",
       "      <td>34404</td>\n",
       "      <td>84</td>\n",
       "      <td>121728</td>\n",
       "      <td>10</td>\n",
       "      <td>10</td>\n",
       "      <td>126576</td>\n",
       "      <td>4930</td>\n",
       "      <td>0</td>\n",
       "      <td>14</td>\n",
       "      <td>10</td>\n",
       "      <td>8</td>\n",
       "      <td>262144</td>\n",
       "      <td>16864</td>\n",
       "      <td>1024</td>\n",
       "      <td>0</td>\n",
       "    </tr>\n",
       "    <tr>\n",
       "      <th>2</th>\n",
       "      <td>332</td>\n",
       "      <td>0</td>\n",
       "      <td>0</td>\n",
       "      <td>0</td>\n",
       "      <td>4</td>\n",
       "      <td>0</td>\n",
       "      <td>0</td>\n",
       "      <td>8192</td>\n",
       "      <td>8</td>\n",
       "      <td>0</td>\n",
       "      <td>3</td>\n",
       "      <td>1048576</td>\n",
       "      <td>34112</td>\n",
       "      <td>672</td>\n",
       "      <td>0</td>\n",
       "    </tr>\n",
       "    <tr>\n",
       "      <th>3</th>\n",
       "      <td>34404</td>\n",
       "      <td>84</td>\n",
       "      <td>19904</td>\n",
       "      <td>10</td>\n",
       "      <td>10</td>\n",
       "      <td>21312</td>\n",
       "      <td>252</td>\n",
       "      <td>18160</td>\n",
       "      <td>14</td>\n",
       "      <td>10</td>\n",
       "      <td>6</td>\n",
       "      <td>262144</td>\n",
       "      <td>16736</td>\n",
       "      <td>1040</td>\n",
       "      <td>0</td>\n",
       "    </tr>\n",
       "    <tr>\n",
       "      <th>4</th>\n",
       "      <td>34404</td>\n",
       "      <td>84</td>\n",
       "      <td>97728</td>\n",
       "      <td>10</td>\n",
       "      <td>10</td>\n",
       "      <td>105792</td>\n",
       "      <td>1852</td>\n",
       "      <td>70592</td>\n",
       "      <td>14</td>\n",
       "      <td>10</td>\n",
       "      <td>7</td>\n",
       "      <td>262144</td>\n",
       "      <td>16736</td>\n",
       "      <td>1096</td>\n",
       "      <td>0</td>\n",
       "    </tr>\n",
       "    <tr>\n",
       "      <th>...</th>\n",
       "      <td>...</td>\n",
       "      <td>...</td>\n",
       "      <td>...</td>\n",
       "      <td>...</td>\n",
       "      <td>...</td>\n",
       "      <td>...</td>\n",
       "      <td>...</td>\n",
       "      <td>...</td>\n",
       "      <td>...</td>\n",
       "      <td>...</td>\n",
       "      <td>...</td>\n",
       "      <td>...</td>\n",
       "      <td>...</td>\n",
       "      <td>...</td>\n",
       "      <td>...</td>\n",
       "    </tr>\n",
       "    <tr>\n",
       "      <th>62480</th>\n",
       "      <td>332</td>\n",
       "      <td>0</td>\n",
       "      <td>0</td>\n",
       "      <td>1</td>\n",
       "      <td>4</td>\n",
       "      <td>0</td>\n",
       "      <td>0</td>\n",
       "      <td>4096</td>\n",
       "      <td>6</td>\n",
       "      <td>0</td>\n",
       "      <td>3</td>\n",
       "      <td>1048576</td>\n",
       "      <td>0</td>\n",
       "      <td>23504</td>\n",
       "      <td>0</td>\n",
       "    </tr>\n",
       "    <tr>\n",
       "      <th>62481</th>\n",
       "      <td>332</td>\n",
       "      <td>0</td>\n",
       "      <td>0</td>\n",
       "      <td>7</td>\n",
       "      <td>10</td>\n",
       "      <td>0</td>\n",
       "      <td>0</td>\n",
       "      <td>0</td>\n",
       "      <td>7</td>\n",
       "      <td>0</td>\n",
       "      <td>7</td>\n",
       "      <td>1048576</td>\n",
       "      <td>0</td>\n",
       "      <td>15704</td>\n",
       "      <td>0</td>\n",
       "    </tr>\n",
       "    <tr>\n",
       "      <th>62482</th>\n",
       "      <td>332</td>\n",
       "      <td>0</td>\n",
       "      <td>0</td>\n",
       "      <td>0</td>\n",
       "      <td>4</td>\n",
       "      <td>0</td>\n",
       "      <td>0</td>\n",
       "      <td>404908</td>\n",
       "      <td>2</td>\n",
       "      <td>50</td>\n",
       "      <td>11</td>\n",
       "      <td>1048576</td>\n",
       "      <td>0</td>\n",
       "      <td>2364</td>\n",
       "      <td>0</td>\n",
       "    </tr>\n",
       "    <tr>\n",
       "      <th>62483</th>\n",
       "      <td>332</td>\n",
       "      <td>0</td>\n",
       "      <td>0</td>\n",
       "      <td>0</td>\n",
       "      <td>4</td>\n",
       "      <td>14448</td>\n",
       "      <td>70</td>\n",
       "      <td>4096</td>\n",
       "      <td>8</td>\n",
       "      <td>0</td>\n",
       "      <td>4</td>\n",
       "      <td>1048576</td>\n",
       "      <td>0</td>\n",
       "      <td>130296</td>\n",
       "      <td>0</td>\n",
       "    </tr>\n",
       "    <tr>\n",
       "      <th>62484</th>\n",
       "      <td>332</td>\n",
       "      <td>0</td>\n",
       "      <td>0</td>\n",
       "      <td>0</td>\n",
       "      <td>5</td>\n",
       "      <td>0</td>\n",
       "      <td>0</td>\n",
       "      <td>4096</td>\n",
       "      <td>9</td>\n",
       "      <td>0</td>\n",
       "      <td>6</td>\n",
       "      <td>1048576</td>\n",
       "      <td>0</td>\n",
       "      <td>6912</td>\n",
       "      <td>0</td>\n",
       "    </tr>\n",
       "  </tbody>\n",
       "</table>\n",
       "<p>62485 rows × 15 columns</p>\n",
       "</div>"
      ],
      "text/plain": [
       "       Machine  DebugSize  DebugRVA  MajorImageVersion  MajorOSVersion  \\\n",
       "0          332          0         0                  0               4   \n",
       "1        34404         84    121728                 10              10   \n",
       "2          332          0         0                  0               4   \n",
       "3        34404         84     19904                 10              10   \n",
       "4        34404         84     97728                 10              10   \n",
       "...        ...        ...       ...                ...             ...   \n",
       "62480      332          0         0                  1               4   \n",
       "62481      332          0         0                  7              10   \n",
       "62482      332          0         0                  0               4   \n",
       "62483      332          0         0                  0               4   \n",
       "62484      332          0         0                  0               5   \n",
       "\n",
       "       ExportRVA  ExportSize  IatVRA  MajorLinkerVersion  MinorLinkerVersion  \\\n",
       "0              0           0    8192                   8                   0   \n",
       "1         126576        4930       0                  14                  10   \n",
       "2              0           0    8192                   8                   0   \n",
       "3          21312         252   18160                  14                  10   \n",
       "4         105792        1852   70592                  14                  10   \n",
       "...          ...         ...     ...                 ...                 ...   \n",
       "62480          0           0    4096                   6                   0   \n",
       "62481          0           0       0                   7                   0   \n",
       "62482          0           0  404908                   2                  50   \n",
       "62483      14448          70    4096                   8                   0   \n",
       "62484          0           0    4096                   9                   0   \n",
       "\n",
       "       NumberOfSections  SizeOfStackReserve  DllCharacteristics  ResourceSize  \\\n",
       "0                     3             1048576               34112           672   \n",
       "1                     8              262144               16864          1024   \n",
       "2                     3             1048576               34112           672   \n",
       "3                     6              262144               16736          1040   \n",
       "4                     7              262144               16736          1096   \n",
       "...                 ...                 ...                 ...           ...   \n",
       "62480                 3             1048576                   0         23504   \n",
       "62481                 7             1048576                   0         15704   \n",
       "62482                11             1048576                   0          2364   \n",
       "62483                 4             1048576                   0        130296   \n",
       "62484                 6             1048576                   0          6912   \n",
       "\n",
       "       BitcoinAddresses  \n",
       "0                     0  \n",
       "1                     0  \n",
       "2                     0  \n",
       "3                     0  \n",
       "4                     0  \n",
       "...                 ...  \n",
       "62480                 0  \n",
       "62481                 0  \n",
       "62482                 0  \n",
       "62483                 0  \n",
       "62484                 0  \n",
       "\n",
       "[62485 rows x 15 columns]"
      ]
     },
     "execution_count": 8,
     "metadata": {},
     "output_type": "execute_result"
    }
   ],
   "source": [
    "#sélectionne jusqu'à l'avant-dernière colonne du cadre de données en eliminant les 2 premieres colonnes\n",
    "x = ran_new.iloc[:, 2:-1]\n",
    "x"
   ]
  },
  {
   "cell_type": "code",
   "execution_count": 9,
   "id": "05af4ff3",
   "metadata": {},
   "outputs": [
    {
     "data": {
      "image/png": "[encoded data removed]",
      "text/plain": [
       "<Figure size 432x288 with 1 Axes>"
      ]
     },
     "metadata": {
      "needs_background": "light"
     },
     "output_type": "display_data"
    }
   ],
   "source": [
    "sns.countplot(data=ran, x='Benign')\n",
    "plt.show()"
   ]
  },
  {
   "cell_type": "code",
   "execution_count": 10,
   "id": "e620b865",
   "metadata": {},
   "outputs": [
    {
     "data": {
      "text/plain": [
       "<AxesSubplot:>"
      ]
     },
     "execution_count": 10,
     "metadata": {},
     "output_type": "execute_result"
    },
    {
     "data": {
      "image/png": "[encoded data removed]",
      "text/plain": [
       "<Figure size 864x576 with 2 Axes>"
      ]
     },
     "metadata": {
      "needs_background": "light"
     },
     "output_type": "display_data"
    }
   ],
   "source": [
    "#Matrice de corrélation en utilisant Seaborn\n",
    "plt.figure(figsize=(12,8))\n",
    "sns.heatmap(ran.corr(),annot = True,cmap='ocean')"
   ]
  },
  {
   "cell_type": "code",
   "execution_count": 11,
   "id": "8241223a",
   "metadata": {},
   "outputs": [],
   "source": [
    "x = ran_new.iloc[:, 2:-1].values\n",
    "y = ran_new.iloc[:,-1].values"
   ]
  },
  {
   "cell_type": "code",
   "execution_count": 12,
   "id": "e73199c1",
   "metadata": {},
   "outputs": [
    {
     "data": {
      "text/plain": [
       "numpy.ndarray"
      ]
     },
     "execution_count": 12,
     "metadata": {},
     "output_type": "execute_result"
    }
   ],
   "source": [
    "type(x)"
   ]
  },
  {
   "cell_type": "code",
   "execution_count": 13,
   "id": "b2f3cf65",
   "metadata": {},
   "outputs": [
    {
     "data": {
      "text/plain": [
       "array([[   332,      0,      0, ...,  34112,    672,      0],\n",
       "       [ 34404,     84, 121728, ...,  16864,   1024,      0],\n",
       "       [   332,      0,      0, ...,  34112,    672,      0],\n",
       "       ...,\n",
       "       [   332,      0,      0, ...,      0,   2364,      0],\n",
       "       [   332,      0,      0, ...,      0, 130296,      0],\n",
       "       [   332,      0,      0, ...,      0,   6912,      0]], dtype=int64)"
      ]
     },
     "execution_count": 13,
     "metadata": {},
     "output_type": "execute_result"
    }
   ],
   "source": [
    "x"
   ]
  },
  {
   "cell_type": "code",
   "execution_count": 17,
   "id": "c1a31304",
   "metadata": {},
   "outputs": [],
   "source": [
    "# Diviser l'ensemble de données en test et train\n",
    "from sklearn.model_selection import train_test_split\n",
    "from sklearn.metrics import f1_score,accuracy_score,plot_confusion_matrix,auc,confusion_matrix\n",
    "x_train, x_test, y_train, y_test = train_test_split(x, y, test_size=0.3, random_state=0)"
   ]
  },
  {
   "cell_type": "code",
   "execution_count": null,
   "id": "e0ad678a",
   "metadata": {},
   "outputs": [],
   "source": [
    "#construisons les 7 modeles"
   ]
  },
  {
   "cell_type": "code",
   "execution_count": null,
   "id": "9c9c4ac4",
   "metadata": {},
   "outputs": [],
   "source": [
    "# I/        RF"
   ]
  },
  {
   "cell_type": "code",
   "execution_count": null,
   "id": "25d3dfde",
   "metadata": {},
   "outputs": [],
   "source": [
    "# construction de modèles Random Forest\n",
    "from sklearn.ensemble import RandomForestClassifier\n",
    "from sklearn.datasets import make_classification\n",
    "clasif=RandomForestClassifier(max_depth=2, random_state=0)\n",
    "randomModel=clasif.fit(x_train, y_train)"
   ]
  },
  {
   "cell_type": "code",
   "execution_count": null,
   "id": "cef64a0d",
   "metadata": {},
   "outputs": [],
   "source": [
    "#Evaluation de la forêt aléatoire sur le test\n",
    "from sklearn.metrics import f1_score,accuracy_score,plot_confusion_matrix,auc,confusion_matrix\n",
    "# precision sur le dataset de test\n",
    "prediction=randomModel.predict(x_test)\n",
    "\n",
    "accuracy_score(y_test,prediction)*100"
   ]
  },
  {
   "cell_type": "code",
   "execution_count": null,
   "id": "f06090a0",
   "metadata": {},
   "outputs": [],
   "source": [
    "#matrice de confusion (vrais positifs, faux positifs, faux négatifs et vrais négatifs)\n",
    "cm = confusion_matrix(y_test, prediction)\n",
    "sns.heatmap(cm, annot=True)"
   ]
  },
  {
   "cell_type": "code",
   "execution_count": null,
   "id": "f035e416",
   "metadata": {},
   "outputs": [],
   "source": [
    "# afficher les false positive et false negative\n",
    "print(\"falses positives:\", cm[0][1]/sum(cm[0])*100)\n",
    "print(\"falses negatives:\", cm[1][0]/sum(cm[1])*100)"
   ]
  },
  {
   "cell_type": "code",
   "execution_count": null,
   "id": "0debd19c",
   "metadata": {},
   "outputs": [],
   "source": [
    "# Illustre le résultat de la précision\n",
    "print(metrics.classification_report(y_test, prediction))"
   ]
  },
  {
   "cell_type": "code",
   "execution_count": null,
   "id": "4544fa51",
   "metadata": {},
   "outputs": [],
   "source": [
    "# la fin\n",
    "preview = pd.DataFrame(data={\n",
    "    'resultats prevus': prediction,\n",
    "    'resultats Réel ': y_test\n",
    "})\n",
    "\n",
    "preview"
   ]
  },
  {
   "cell_type": "code",
   "execution_count": null,
   "id": "8bfde26e",
   "metadata": {},
   "outputs": [],
   "source": [
    "#  II SVM"
   ]
  },
  {
   "cell_type": "code",
   "execution_count": 18,
   "id": "ab39e08c",
   "metadata": {},
   "outputs": [],
   "source": [
    "# construisons le modele support vector machine\n",
    "from sklearn.svm import SVC\n",
    "svm = SVC()\n",
    "svm.fit(x_train,y_train)\n",
    "y_pred = svm.predict(x_test)"
   ]
  },
  {
   "cell_type": "code",
   "execution_count": 19,
   "id": "d7e40426",
   "metadata": {},
   "outputs": [
    {
     "name": "stdout",
     "output_type": "stream",
     "text": [
      "le score de l'algorithme svm : 78.59276645684413\n"
     ]
    }
   ],
   "source": [
    "# afficher le score\n",
    "print(\"le score de l'algorithme svm :\", svm.score(x_test, y_test)*100)"
   ]
  },
  {
   "cell_type": "code",
   "execution_count": 20,
   "id": "cb92c5a1",
   "metadata": {},
   "outputs": [
    {
     "data": {
      "text/plain": [
       "<AxesSubplot:>"
      ]
     },
     "execution_count": 20,
     "metadata": {},
     "output_type": "execute_result"
    },
    {
     "data": {
      "image/png": "[encoded data removed]",
      "text/plain": [
       "<Figure size 432x288 with 2 Axes>"
      ]
     },
     "metadata": {
      "needs_background": "light"
     },
     "output_type": "display_data"
    }
   ],
   "source": [
    "#matrice de confusion (vrais positifs, faux positifs, faux négatifs et vrais négatifs)\n",
    "cm = confusion_matrix(y_test,y_pred)\n",
    "sns.heatmap(cm, annot=True)"
   ]
  },
  {
   "cell_type": "code",
   "execution_count": 21,
   "id": "d3f581a2",
   "metadata": {},
   "outputs": [
    {
     "name": "stdout",
     "output_type": "stream",
     "text": [
      "              precision    recall  f1-score   support\n",
      "\n",
      "           0       0.75      0.93      0.83     10661\n",
      "           1       0.86      0.60      0.71      8085\n",
      "\n",
      "    accuracy                           0.79     18746\n",
      "   macro avg       0.81      0.76      0.77     18746\n",
      "weighted avg       0.80      0.79      0.78     18746\n",
      "\n"
     ]
    }
   ],
   "source": [
    "# la precision\n",
    "print(metrics.classification_report(y_test, y_pred))"
   ]
  },
  {
   "cell_type": "code",
   "execution_count": 22,
   "id": "231aa1fb",
   "metadata": {},
   "outputs": [],
   "source": [
    "# III /       SGD"
   ]
  },
  {
   "cell_type": "code",
   "execution_count": 23,
   "id": "ae142089",
   "metadata": {},
   "outputs": [],
   "source": [
    "# appliquons le modele Stochastic gradient descent\n",
    "from sklearn.linear_model import SGDClassifier\n",
    "from sklearn.datasets import make_classification\n",
    "from sklearn.preprocessing import scale"
   ]
  },
  {
   "cell_type": "code",
   "execution_count": 24,
   "id": "a3fafad8",
   "metadata": {},
   "outputs": [
    {
     "name": "stdout",
     "output_type": "stream",
     "text": [
      "0.6520496581997759\n"
     ]
    }
   ],
   "source": [
    "sgdc = SGDClassifier(max_iter=999, tol=0.05)\n",
    "sgdc.fit(x_train, y_train)\n",
    "\n",
    "y_prediction=sgdc.predict(x_train)\n",
    "print(accuracy_score(y_prediction, y_train ))"
   ]
  },
  {
   "cell_type": "code",
   "execution_count": 25,
   "id": "e726d12d",
   "metadata": {},
   "outputs": [
    {
     "name": "stdout",
     "output_type": "stream",
     "text": [
      "0.656139976528326\n"
     ]
    }
   ],
   "source": [
    "# evaluer le modele Stochastic gradient descent sur les donnees a tester\n",
    "y_pre=sgdc.predict(x_test)\n",
    "print(accuracy_score(y_pre, y_test ))"
   ]
  },
  {
   "cell_type": "code",
   "execution_count": 26,
   "id": "2c14bc3a",
   "metadata": {},
   "outputs": [
    {
     "data": {
      "text/plain": [
       "<AxesSubplot:>"
      ]
     },
     "execution_count": 26,
     "metadata": {},
     "output_type": "execute_result"
    },
    {
     "data": {
      "image/png": "[encoded data removed]",
      "text/plain": [
       "<Figure size 432x288 with 2 Axes>"
      ]
     },
     "metadata": {
      "needs_background": "light"
     },
     "output_type": "display_data"
    }
   ],
   "source": [
    "#matrice de confusion (vrais positifs, faux positifs, faux négatifs et vrais négatifs)\n",
    "cm=confusion_matrix(y_test, y_pre)\n",
    "sns.heatmap(cm, annot=True)"
   ]
  },
  {
   "cell_type": "code",
   "execution_count": 27,
   "id": "991d5fd2",
   "metadata": {},
   "outputs": [
    {
     "name": "stdout",
     "output_type": "stream",
     "text": [
      "              precision    recall  f1-score   support\n",
      "\n",
      "           0       0.69      0.73      0.71     10661\n",
      "           1       0.61      0.56      0.58      8085\n",
      "\n",
      "    accuracy                           0.66     18746\n",
      "   macro avg       0.65      0.64      0.65     18746\n",
      "weighted avg       0.65      0.66      0.65     18746\n",
      "\n"
     ]
    }
   ],
   "source": [
    "# la precision\n",
    "print(metrics.classification_report(y_test, y_pre))"
   ]
  },
  {
   "cell_type": "code",
   "execution_count": 28,
   "id": "05d883b3",
   "metadata": {},
   "outputs": [],
   "source": [
    "#  IV  lR"
   ]
  },
  {
   "cell_type": "code",
   "execution_count": 29,
   "id": "7a821636",
   "metadata": {},
   "outputs": [],
   "source": [
    "# Logistic Regression"
   ]
  },
  {
   "cell_type": "code",
   "execution_count": 30,
   "id": "968be24b",
   "metadata": {},
   "outputs": [
    {
     "name": "stderr",
     "output_type": "stream",
     "text": [
      "C:\\Users\\PC\\anaconda3\\lib\\site-packages\\sklearn\\linear_model\\_logistic.py:763: ConvergenceWarning: lbfgs failed to converge (status=1):\n",
      "STOP: TOTAL NO. of ITERATIONS REACHED LIMIT.\n",
      "\n",
      "Increase the number of iterations (max_iter) or scale the data as shown in:\n",
      "    https://scikit-learn.org/stable/modules/preprocessing.html\n",
      "Please also refer to the documentation for alternative solver options:\n",
      "    https://scikit-learn.org/stable/modules/linear_model.html#logistic-regression\n",
      "  n_iter_i = _check_optimize_result(\n"
     ]
    }
   ],
   "source": [
    "from sklearn.linear_model import LogisticRegression\n",
    "\n",
    "clasif=LogisticRegression(random_state=2)\n",
    "logModel=clasif.fit(x_train, y_train)"
   ]
  },
  {
   "cell_type": "code",
   "execution_count": 31,
   "id": "e0f0db9f",
   "metadata": {},
   "outputs": [
    {
     "data": {
      "text/plain": [
       "79.5156300010669"
      ]
     },
     "execution_count": 31,
     "metadata": {},
     "output_type": "execute_result"
    }
   ],
   "source": [
    "#calculonl le score sur le dataset test\n",
    "pred= logModel.predict(x_test)\n",
    "accuracy_score(y_test,pred)*100"
   ]
  },
  {
   "cell_type": "code",
   "execution_count": 32,
   "id": "961e3d77",
   "metadata": {},
   "outputs": [
    {
     "data": {
      "text/plain": [
       "<AxesSubplot:>"
      ]
     },
     "execution_count": 32,
     "metadata": {},
     "output_type": "execute_result"
    },
    {
     "data": {
      "image/png": "[encoded data removed]",
      "text/plain": [
       "<Figure size 432x288 with 2 Axes>"
      ]
     },
     "metadata": {
      "needs_background": "light"
     },
     "output_type": "display_data"
    }
   ],
   "source": [
    "#matrice de confusion (vrais positifs, faux positifs, faux négatifs et vrais négatifs)\n",
    "cm = confusion_matrix(y_test, pred)\n",
    "sns.heatmap(cm, annot=True)"
   ]
  },
  {
   "cell_type": "code",
   "execution_count": 33,
   "id": "60591024",
   "metadata": {},
   "outputs": [
    {
     "name": "stdout",
     "output_type": "stream",
     "text": [
      "falses positives: 7.3632867460838565\n",
      "falses negatives: 37.78602350030921\n"
     ]
    }
   ],
   "source": [
    "# afficher false positive et false negative\n",
    "print(\"falses positives:\", cm[0][1]/sum(cm[0])*100)\n",
    "print(\"falses negatives:\", cm[1][0]/sum(cm[1])*100)"
   ]
  },
  {
   "cell_type": "code",
   "execution_count": 34,
   "id": "66a2e4d1",
   "metadata": {},
   "outputs": [
    {
     "name": "stdout",
     "output_type": "stream",
     "text": [
      "              precision    recall  f1-score   support\n",
      "\n",
      "           0       0.76      0.93      0.84     10661\n",
      "           1       0.87      0.62      0.72      8085\n",
      "\n",
      "    accuracy                           0.80     18746\n",
      "   macro avg       0.81      0.77      0.78     18746\n",
      "weighted avg       0.81      0.80      0.79     18746\n",
      "\n"
     ]
    }
   ],
   "source": [
    "print(metrics.classification_report(y_test, pred))"
   ]
  },
  {
   "cell_type": "code",
   "execution_count": 35,
   "id": "0e472ac4",
   "metadata": {},
   "outputs": [],
   "source": [
    "# V      KNN"
   ]
  },
  {
   "cell_type": "code",
   "execution_count": 36,
   "id": "7d8f32b6",
   "metadata": {},
   "outputs": [],
   "source": [
    "# KNN CLASSIFIER\n",
    "#Dans cette étape, le classificateur KNN est appliqué et réparti en deux classes "
   ]
  },
  {
   "cell_type": "code",
   "execution_count": 37,
   "id": "2ab7c97f",
   "metadata": {},
   "outputs": [
    {
     "data": {
      "text/plain": [
       "KNeighborsClassifier(n_neighbors=1)"
      ]
     },
     "execution_count": 37,
     "metadata": {},
     "output_type": "execute_result"
    }
   ],
   "source": [
    "from sklearn.neighbors import KNeighborsClassifier\n",
    "#si k=1 parceque nous avons 2 classes\n",
    "knn_neigh=KNeighborsClassifier(n_neighbors=1)\n",
    "knn_neigh.fit(x_train, y_train)"
   ]
  },
  {
   "cell_type": "code",
   "execution_count": 38,
   "id": "91073337",
   "metadata": {},
   "outputs": [
    {
     "name": "stdout",
     "output_type": "stream",
     "text": [
      "[1 1 0 ... 0 1 1]\n",
      "KNN Classifier score: 98.31430705217113\n"
     ]
    }
   ],
   "source": [
    "# la prediction sur les donnees a tester\n",
    "predictt=knn_neigh.predict(x_test)\n",
    "print(predictt)\n",
    "# score du KNN Classifier\n",
    "print(\"KNN Classifier score:\", knn_neigh.score(x_test, y_test)*100)"
   ]
  },
  {
   "cell_type": "code",
   "execution_count": 39,
   "id": "a6659f57",
   "metadata": {},
   "outputs": [
    {
     "data": {
      "text/plain": [
       "98.31430705217113"
      ]
     },
     "execution_count": 39,
     "metadata": {},
     "output_type": "execute_result"
    }
   ],
   "source": [
    "# precision\n",
    "accuracy_score(y_test,predictt)*100"
   ]
  },
  {
   "cell_type": "code",
   "execution_count": 40,
   "id": "f2f24a51",
   "metadata": {},
   "outputs": [
    {
     "data": {
      "text/plain": [
       "<AxesSubplot:>"
      ]
     },
     "execution_count": 40,
     "metadata": {},
     "output_type": "execute_result"
    },
    {
     "data": {
      "image/png": "[encoded data removed]",
      "text/plain": [
       "<Figure size 432x288 with 2 Axes>"
      ]
     },
     "metadata": {
      "needs_background": "light"
     },
     "output_type": "display_data"
    }
   ],
   "source": [
    "#matrice de confusion (vrais positifs, faux positifs, faux négatifs et vrais négatifs)\n",
    "cm = confusion_matrix(y_test, predictt)\n",
    "sns.heatmap(cm, annot=True)"
   ]
  },
  {
   "cell_type": "code",
   "execution_count": 41,
   "id": "f90a34d5",
   "metadata": {},
   "outputs": [
    {
     "name": "stdout",
     "output_type": "stream",
     "text": [
      "              precision    recall  f1-score   support\n",
      "\n",
      "           0       0.99      0.99      0.99     10661\n",
      "           1       0.98      0.98      0.98      8085\n",
      "\n",
      "    accuracy                           0.98     18746\n",
      "   macro avg       0.98      0.98      0.98     18746\n",
      "weighted avg       0.98      0.98      0.98     18746\n",
      "\n"
     ]
    }
   ],
   "source": [
    "print(metrics.classification_report(y_test, predictt))"
   ]
  },
  {
   "cell_type": "code",
   "execution_count": 42,
   "id": "6668a592",
   "metadata": {},
   "outputs": [],
   "source": [
    "# VI  NB"
   ]
  },
  {
   "cell_type": "code",
   "execution_count": 43,
   "id": "d7a97ec7",
   "metadata": {},
   "outputs": [],
   "source": [
    "# appliquer le modele de naives bayes \n",
    "from sklearn.naive_bayes import GaussianNB\n",
    "from sklearn.metrics import confusion_matrix,classification_report\n",
    "\n",
    "#creer un classifier Gaussian\n",
    "classifier=GaussianNB()"
   ]
  },
  {
   "cell_type": "code",
   "execution_count": 44,
   "id": "518df7b6",
   "metadata": {},
   "outputs": [
    {
     "name": "stdout",
     "output_type": "stream",
     "text": [
      "0.4353323121241912\n"
     ]
    }
   ],
   "source": [
    "classifier.fit(x_train, y_train)\n",
    "\n",
    "y_pred=classifier.predict(x_train)\n",
    "print(accuracy_score(y_pred, y_train ))"
   ]
  },
  {
   "cell_type": "code",
   "execution_count": 45,
   "id": "ea670fe0",
   "metadata": {},
   "outputs": [
    {
     "ename": "ValueError",
     "evalue": "Found input variables with inconsistent numbers of samples: [43739, 18746]",
     "output_type": "error",
     "traceback": [
      "\u001b[1;31m---------------------------------------------------------------------------\u001b[0m",
      "\u001b[1;31mValueError\u001b[0m                                Traceback (most recent call last)",
      "\u001b[1;32m~\\AppData\\Local\\Temp/ipykernel_10576/1128585857.py\u001b[0m in \u001b[0;36m<module>\u001b[1;34m\u001b[0m\n\u001b[0;32m      1\u001b[0m \u001b[0my_predd\u001b[0m\u001b[1;33m=\u001b[0m\u001b[0mclassifier\u001b[0m\u001b[1;33m.\u001b[0m\u001b[0mpredict\u001b[0m\u001b[1;33m(\u001b[0m\u001b[0mx_test\u001b[0m\u001b[1;33m)\u001b[0m\u001b[1;33m\u001b[0m\u001b[1;33m\u001b[0m\u001b[0m\n\u001b[1;32m----> 2\u001b[1;33m \u001b[0mprint\u001b[0m\u001b[1;33m(\u001b[0m\u001b[0maccuracy_score\u001b[0m\u001b[1;33m(\u001b[0m\u001b[0my_pred\u001b[0m\u001b[1;33m,\u001b[0m \u001b[0my_test\u001b[0m \u001b[1;33m)\u001b[0m\u001b[1;33m)\u001b[0m\u001b[1;33m\u001b[0m\u001b[1;33m\u001b[0m\u001b[0m\n\u001b[0m",
      "\u001b[1;32m~\\anaconda3\\lib\\site-packages\\sklearn\\utils\\validation.py\u001b[0m in \u001b[0;36minner_f\u001b[1;34m(*args, **kwargs)\u001b[0m\n\u001b[0;32m     61\u001b[0m             \u001b[0mextra_args\u001b[0m \u001b[1;33m=\u001b[0m \u001b[0mlen\u001b[0m\u001b[1;33m(\u001b[0m\u001b[0margs\u001b[0m\u001b[1;33m)\u001b[0m \u001b[1;33m-\u001b[0m \u001b[0mlen\u001b[0m\u001b[1;33m(\u001b[0m\u001b[0mall_args\u001b[0m\u001b[1;33m)\u001b[0m\u001b[1;33m\u001b[0m\u001b[1;33m\u001b[0m\u001b[0m\n\u001b[0;32m     62\u001b[0m             \u001b[1;32mif\u001b[0m \u001b[0mextra_args\u001b[0m \u001b[1;33m<=\u001b[0m \u001b[1;36m0\u001b[0m\u001b[1;33m:\u001b[0m\u001b[1;33m\u001b[0m\u001b[1;33m\u001b[0m\u001b[0m\n\u001b[1;32m---> 63\u001b[1;33m                 \u001b[1;32mreturn\u001b[0m \u001b[0mf\u001b[0m\u001b[1;33m(\u001b[0m\u001b[1;33m*\u001b[0m\u001b[0margs\u001b[0m\u001b[1;33m,\u001b[0m \u001b[1;33m**\u001b[0m\u001b[0mkwargs\u001b[0m\u001b[1;33m)\u001b[0m\u001b[1;33m\u001b[0m\u001b[1;33m\u001b[0m\u001b[0m\n\u001b[0m\u001b[0;32m     64\u001b[0m \u001b[1;33m\u001b[0m\u001b[0m\n\u001b[0;32m     65\u001b[0m             \u001b[1;31m# extra_args > 0\u001b[0m\u001b[1;33m\u001b[0m\u001b[1;33m\u001b[0m\u001b[0m\n",
      "\u001b[1;32m~\\anaconda3\\lib\\site-packages\\sklearn\\metrics\\_classification.py\u001b[0m in \u001b[0;36maccuracy_score\u001b[1;34m(y_true, y_pred, normalize, sample_weight)\u001b[0m\n\u001b[0;32m    200\u001b[0m \u001b[1;33m\u001b[0m\u001b[0m\n\u001b[0;32m    201\u001b[0m     \u001b[1;31m# Compute accuracy for each possible representation\u001b[0m\u001b[1;33m\u001b[0m\u001b[1;33m\u001b[0m\u001b[0m\n\u001b[1;32m--> 202\u001b[1;33m     \u001b[0my_type\u001b[0m\u001b[1;33m,\u001b[0m \u001b[0my_true\u001b[0m\u001b[1;33m,\u001b[0m \u001b[0my_pred\u001b[0m \u001b[1;33m=\u001b[0m \u001b[0m_check_targets\u001b[0m\u001b[1;33m(\u001b[0m\u001b[0my_true\u001b[0m\u001b[1;33m,\u001b[0m \u001b[0my_pred\u001b[0m\u001b[1;33m)\u001b[0m\u001b[1;33m\u001b[0m\u001b[1;33m\u001b[0m\u001b[0m\n\u001b[0m\u001b[0;32m    203\u001b[0m     \u001b[0mcheck_consistent_length\u001b[0m\u001b[1;33m(\u001b[0m\u001b[0my_true\u001b[0m\u001b[1;33m,\u001b[0m \u001b[0my_pred\u001b[0m\u001b[1;33m,\u001b[0m \u001b[0msample_weight\u001b[0m\u001b[1;33m)\u001b[0m\u001b[1;33m\u001b[0m\u001b[1;33m\u001b[0m\u001b[0m\n\u001b[0;32m    204\u001b[0m     \u001b[1;32mif\u001b[0m \u001b[0my_type\u001b[0m\u001b[1;33m.\u001b[0m\u001b[0mstartswith\u001b[0m\u001b[1;33m(\u001b[0m\u001b[1;34m'multilabel'\u001b[0m\u001b[1;33m)\u001b[0m\u001b[1;33m:\u001b[0m\u001b[1;33m\u001b[0m\u001b[1;33m\u001b[0m\u001b[0m\n",
      "\u001b[1;32m~\\anaconda3\\lib\\site-packages\\sklearn\\metrics\\_classification.py\u001b[0m in \u001b[0;36m_check_targets\u001b[1;34m(y_true, y_pred)\u001b[0m\n\u001b[0;32m     81\u001b[0m     \u001b[0my_pred\u001b[0m \u001b[1;33m:\u001b[0m \u001b[0marray\u001b[0m \u001b[1;32mor\u001b[0m \u001b[0mindicator\u001b[0m \u001b[0mmatrix\u001b[0m\u001b[1;33m\u001b[0m\u001b[1;33m\u001b[0m\u001b[0m\n\u001b[0;32m     82\u001b[0m     \"\"\"\n\u001b[1;32m---> 83\u001b[1;33m     \u001b[0mcheck_consistent_length\u001b[0m\u001b[1;33m(\u001b[0m\u001b[0my_true\u001b[0m\u001b[1;33m,\u001b[0m \u001b[0my_pred\u001b[0m\u001b[1;33m)\u001b[0m\u001b[1;33m\u001b[0m\u001b[1;33m\u001b[0m\u001b[0m\n\u001b[0m\u001b[0;32m     84\u001b[0m     \u001b[0mtype_true\u001b[0m \u001b[1;33m=\u001b[0m \u001b[0mtype_of_target\u001b[0m\u001b[1;33m(\u001b[0m\u001b[0my_true\u001b[0m\u001b[1;33m)\u001b[0m\u001b[1;33m\u001b[0m\u001b[1;33m\u001b[0m\u001b[0m\n\u001b[0;32m     85\u001b[0m     \u001b[0mtype_pred\u001b[0m \u001b[1;33m=\u001b[0m \u001b[0mtype_of_target\u001b[0m\u001b[1;33m(\u001b[0m\u001b[0my_pred\u001b[0m\u001b[1;33m)\u001b[0m\u001b[1;33m\u001b[0m\u001b[1;33m\u001b[0m\u001b[0m\n",
      "\u001b[1;32m~\\anaconda3\\lib\\site-packages\\sklearn\\utils\\validation.py\u001b[0m in \u001b[0;36mcheck_consistent_length\u001b[1;34m(*arrays)\u001b[0m\n\u001b[0;32m    317\u001b[0m     \u001b[0muniques\u001b[0m \u001b[1;33m=\u001b[0m \u001b[0mnp\u001b[0m\u001b[1;33m.\u001b[0m\u001b[0munique\u001b[0m\u001b[1;33m(\u001b[0m\u001b[0mlengths\u001b[0m\u001b[1;33m)\u001b[0m\u001b[1;33m\u001b[0m\u001b[1;33m\u001b[0m\u001b[0m\n\u001b[0;32m    318\u001b[0m     \u001b[1;32mif\u001b[0m \u001b[0mlen\u001b[0m\u001b[1;33m(\u001b[0m\u001b[0muniques\u001b[0m\u001b[1;33m)\u001b[0m \u001b[1;33m>\u001b[0m \u001b[1;36m1\u001b[0m\u001b[1;33m:\u001b[0m\u001b[1;33m\u001b[0m\u001b[1;33m\u001b[0m\u001b[0m\n\u001b[1;32m--> 319\u001b[1;33m         raise ValueError(\"Found input variables with inconsistent numbers of\"\n\u001b[0m\u001b[0;32m    320\u001b[0m                          \" samples: %r\" % [int(l) for l in lengths])\n\u001b[0;32m    321\u001b[0m \u001b[1;33m\u001b[0m\u001b[0m\n",
      "\u001b[1;31mValueError\u001b[0m: Found input variables with inconsistent numbers of samples: [43739, 18746]"
     ]
    }
   ],
   "source": [
    "y_predd=classifier.predict(x_test)\n",
    "print(accuracy_score(y_pred, y_test ))\n"
   ]
  },
  {
   "cell_type": "code",
   "execution_count": null,
   "id": "524f43e7",
   "metadata": {},
   "outputs": [],
   "source": [
    "#matrice de confusion (vrais positifs, faux positifs, faux négatifs et vrais négatifs)\n",
    "cm=confusion_matrix(y_test, y_predd)\n",
    "sns.heatmap(cm, annot=True)"
   ]
  },
  {
   "cell_type": "code",
   "execution_count": null,
   "id": "e11ee68a",
   "metadata": {},
   "outputs": [],
   "source": [
    "# accuracy ou precision globale\n",
    "print(metrics.classification_report(y_test, y_predd))"
   ]
  },
  {
   "cell_type": "code",
   "execution_count": null,
   "id": "bd96ada6",
   "metadata": {},
   "outputs": [],
   "source": [
    "# VII MLP"
   ]
  },
  {
   "cell_type": "code",
   "execution_count": null,
   "id": "b81496a2",
   "metadata": {},
   "outputs": [],
   "source": [
    "#nous utilisons le paquet sklearn\n",
    "from sklearn.metrics import confusion_matrix\n",
    "from sklearn.neural_network import MLPClassifier\n",
    "from sklearn.preprocessing import StandardScaler\n",
    "from sklearn.metrics import confusion_matrix,classification_report\n",
    "scaler= StandardScaler()\n",
    "scaler.fit(x_train)\n",
    "x_train=scaler.transform(x_train)\n",
    "x_test=scaler.transform(x_test)"
   ]
  },
  {
   "cell_type": "code",
   "execution_count": null,
   "id": "b88bee07",
   "metadata": {},
   "outputs": [],
   "source": [
    "#construisons le model MLP \n",
    "MLP=MLPClassifier(hidden_layer_sizes=(14,14,14,14,14,14))\n",
    "\n",
    "MLP.fit(x_train,y_train)\n",
    "predictions=MLP.predict(x_test)"
   ]
  },
  {
   "cell_type": "code",
   "execution_count": null,
   "id": "089b492d",
   "metadata": {},
   "outputs": [],
   "source": [
    "print(predictions)"
   ]
  },
  {
   "cell_type": "code",
   "execution_count": null,
   "id": "5e12b4d3",
   "metadata": {},
   "outputs": [],
   "source": [
    "#confusion matrix pour notre modele MLP Deep Learning \n",
    "cm=confusion_matrix(y_test, predictions)\n",
    "sns.heatmap(cm, annot=True)"
   ]
  },
  {
   "cell_type": "code",
   "execution_count": null,
   "id": "5a3d379f",
   "metadata": {},
   "outputs": [],
   "source": [
    "# True Negative TN, False Positive FP, False Negatice FN,True Positive TP\n",
    "print(\"falses positives:\", cm[0][1]/sum(cm[0])*100)\n",
    "print(\"falses negatives:\", cm[1][0]/sum(cm[1])*100)"
   ]
  },
  {
   "cell_type": "code",
   "execution_count": null,
   "id": "036ae0d1",
   "metadata": {},
   "outputs": [],
   "source": [
    "# la precision \n",
    "print(\"Précision de l'apprentissage profond pour la détection des ransomwares:\", MLP.score(x_test, y_test)*100)\n"
   ]
  },
  {
   "cell_type": "code",
   "execution_count": null,
   "id": "879eb7e8",
   "metadata": {},
   "outputs": [],
   "source": [
    "print(metrics.classification_report(y_test, predictions))"
   ]
  }
 ],
 "metadata": {
  "kernelspec": {
   "display_name": "Python 3 (ipykernel)",
   "language": "python",
   "name": "python3"
  },
  "language_info": {
   "codemirror_mode": {
    "name": "ipython",
    "version": 3
   },
   "file_extension": ".py",
   "mimetype": "text/x-python",
   "name": "python",
   "nbconvert_exporter": "python",
   "pygments_lexer": "ipython3",
   "version": "3.9.7"
  }
 },
 "nbformat": 4,
 "nbformat_minor": 5
}
